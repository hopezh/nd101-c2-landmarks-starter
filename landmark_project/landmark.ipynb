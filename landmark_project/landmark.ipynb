{
 "cells": [
  {
   "cell_type": "markdown",
   "metadata": {},
   "source": [
    "# Convolutional Neural Networks\n",
    "\n",
    "## Project: Write an Algorithm for Landmark Classification\n",
    "\n",
    "---\n",
    "\n",
    "In this notebook, some template code has already been provided for you, and you will need to implement additional functionality to successfully complete this project. \n",
    "\n",
    "You will not need to modify the included code beyond what is requested. \n",
    "\n",
    "Sections that begin with **'(IMPLEMENTATION)'** in the header indicate that the following block of code will require additional functionality which you must provide. \n",
    "\n",
    "Instructions will be provided for each section, and the specifics of the implementation are marked in the code block with a 'TODO' statement. Please be sure to read the instructions carefully! \n",
    "\n",
    "> **Note**: Once you have completed all the code implementations, you need to finalize your work by exporting the Jupyter Notebook as an **HTML document**. \n",
    "> \n",
    "> Before exporting the notebook to HTML, all the code cells need to have been run so that reviewers can see the final implementation and output. \n",
    "> \n",
    "> You can then export the notebook by using the menu above and navigating to **File -> Download as -> HTML (.html)**. Include the finished document along with this notebook as your submission.\n",
    "\n",
    "In addition to implementing code, there will be questions that you must answer which relate to the project and your implementation. Each section where you will answer a question is preceded by a **'Question X'** header. Carefully read each question and provide thorough answers in the following text boxes that begin with **'Answer:'**. Your project submission will be evaluated based on your answers to each of the questions and the implementation you provide.\n",
    "\n",
    ">**Note:** Code and Markdown cells can be executed using the **Shift + Enter** keyboard shortcut.  Markdown cells can be edited by double-clicking the cell to enter edit mode.\n",
    "\n",
    "The rubric contains _optional_ \"Stand Out Suggestions\" for enhancing the project beyond the minimum requirements. If you decide to pursue the \"Stand Out Suggestions\", you should include the code in this Jupyter notebook.\n",
    "\n",
    "---\n",
    "\n",
    "### Why We're Here\n",
    "\n",
    "Photo sharing and photo storage services like to have location data for each photo that is uploaded. With the location data, these services can build advanced features, such as automatic suggestion of relevant tags or automatic photo organization, which help provide a compelling user experience. Although a photo's location can often be obtained by looking at the photo's metadata, many photos uploaded to these services will not have location metadata available. This can happen when, for example, the camera capturing the picture does not have GPS or if a photo's metadata is scrubbed due to privacy concerns.\n",
    "\n",
    "If no location metadata for an image is available, one way to infer the location is to detect and classify a discernible landmark in the image. Given the large number of landmarks across the world and the immense volume of images that are uploaded to photo sharing services, using human judgement to classify these landmarks would not be feasible.\n",
    "\n",
    "In this notebook, you will take the first steps towards addressing this problem by building models to automatically predict the location of the image based on any landmarks depicted in the image. At the end of this project, your code will accept any user-supplied image as input and suggest the top k most relevant landmarks from 50 possible landmarks from across the world. The image below displays a potential sample output of your finished project.\n",
    "\n",
    "![Sample landmark classification output](images/sample_landmark_output.png)\n",
    "\n",
    "--- \n",
    "\n",
    "### The Road Ahead\n",
    "\n",
    "We break the notebook into separate steps.  Feel free to use the links below to navigate the notebook.\n",
    "\n",
    "* [Step 0](#step0): Download Datasets and Install Python Modules\n",
    "* [Step 1](#step1): Create a CNN to Classify Landmarks (from Scratch)\n",
    "* [Step 2](#step2): Create a CNN to Classify Landmarks (using Transfer Learning)\n",
    "* [Step 3](#step3): Write Your Landmark Prediction Algorithm\n",
    "\n",
    "---\n",
    "<a id='step0'></a>\n",
    "## Step 0: Download Datasets and Install Python Modules\n",
    "\n",
    "**Note: if you are using the Udacity workspace, *YOU CAN SKIP THIS STEP*. The dataset can be found in the `/data` folder and all required Python modules have been installed in the workspace.**\n",
    "\n",
    "Download the [landmark dataset](https://udacity-dlnfd.s3-us-west-1.amazonaws.com/datasets/landmark_images.zip).\n",
    "Unzip the folder and place it in this project's home directory, at the location `/landmark_images`.\n",
    "\n",
    "Install the following Python modules:\n",
    "* cv2\n",
    "* matplotlib\n",
    "* numpy\n",
    "* PIL\n",
    "* torch\n",
    "* torchvision"
   ]
  },
  {
   "cell_type": "code",
   "execution_count": 13,
   "metadata": {},
   "outputs": [],
   "source": [
    "import os \n",
    "import numpy as np \n",
    "import torch \n",
    "import torch.nn as nn\n",
    "import torch.nn.functional as F \n",
    "import torch.optim as optim \n",
    "\n",
    "import torchvision \n",
    "from torchvision import datasets, models, transforms \n",
    "from torch.utils.data.sampler import SubsetRandomSampler\n",
    "import matplotlib.pyplot as plt \n"
   ]
  },
  {
   "cell_type": "markdown",
   "metadata": {},
   "source": [
    "---\n",
    "\n",
    "<a id='step1'></a>\n",
    "## Step 1: Create a CNN to Classify Landmarks (from Scratch)\n",
    "\n",
    "In this step, you will create a CNN that classifies landmarks.  You must create your CNN _from scratch_ (so, you can't use transfer learning _yet_!), and you must attain a test accuracy of at least 20%.\n",
    "\n",
    "Although 20% may seem low at first glance, it seems more reasonable after realizing how difficult of a problem this is. Many times, an image that is taken at a landmark captures a fairly mundane image of an animal or plant, like in the following picture.\n",
    "\n",
    "<img src=\"images/train/00.Haleakala_National_Park/084c2aa50d0a9249.jpg\" alt=\"Bird in Haleakalā National Park\" style=\"width: 400px;\"/>\n",
    "\n",
    "Just by looking at that image alone, would you have been able to guess that it was taken at the Haleakalā National Park in Hawaii?\n",
    "\n",
    "An accuracy of 20% is significantly better than random guessing, which would provide an accuracy of just 2%. In Step 2 of this notebook, you will have the opportunity to greatly improve accuracy by using transfer learning to create a CNN.\n",
    "\n",
    "Remember that practice is far ahead of theory in deep learning.  Experiment with many different architectures, and trust your intuition.  And, of course, have fun!"
   ]
  },
  {
   "cell_type": "markdown",
   "metadata": {},
   "source": [
    "### (IMPLEMENTATION) Specify Data Loaders for the Landmark Dataset\n",
    "\n",
    "Use the code cell below to create three separate [data loaders](http://pytorch.org/docs/stable/data.html#torch.utils.data.DataLoader): one for training data, one for validation data, and one for test data. Randomly split the images located at `landmark_images/train` to create the train and validation data loaders, and use the images located at `landmark_images/test` to create the test data loader.\n",
    "\n",
    "All three of your data loaders should be accessible via a dictionary named `loaders_scratch`. Your train data loader should be at `loaders_scratch['train']`, your validation data loader should be at `loaders_scratch['valid']`, and your test data loader should be at `loaders_scratch['test']`.\n",
    "\n",
    "You may find [this documentation on custom datasets](https://pytorch.org/docs/stable/torchvision/datasets.html#datasetfolder) to be a useful resource.  If you are interested in augmenting your training and/or validation data, check out the wide variety of [transforms](http://pytorch.org/docs/stable/torchvision/transforms.html?highlight=transform)!"
   ]
  },
  {
   "cell_type": "code",
   "execution_count": 18,
   "metadata": {},
   "outputs": [
    {
     "name": "stdout",
     "output_type": "stream",
     "text": [
      "num of train images:\t 4996\n",
      "num of test images:\t 1250\n"
     ]
    }
   ],
   "source": [
    "### TODO: Write data loaders for training, validation, and test sets\n",
    "## Specify appropriate transforms, and batch_sizes\n",
    "\n",
    "# [+] get train & test data \n",
    "\n",
    "# [-] dict of loaders \n",
    "loaders_scratch = {'train': None, 'valid': None, 'test': None}\n",
    "\n",
    "# [-] training and test data dir \n",
    "data_dir  = 'landmark_images'\n",
    "train_dir = os.path.join(data_dir, 'train/')\n",
    "test_dir  = os.path.join(data_dir, 'test/')\n",
    "\n",
    "# [-] data transform\n",
    "data_transform = transforms.Compose([\n",
    "    # transforms.RandomRotation(10),      # [.] random rotate    \n",
    "    transforms.Resize(32),              # [.] resize\n",
    "    transforms.CenterCrop(32),          # [.] center crop \n",
    "    # transforms.RandomHorizontalFlip(),  # [.] random flip \n",
    "    transforms.ToTensor(),              # [.] convert to tensor \n",
    "    transforms.Normalize(               # [.] normalize RGB values \n",
    "        (0.5, 0.5, 0.5), \n",
    "        (0.5, 0.5, 0.5) \n",
    "    ), \n",
    "])\n",
    "\n",
    "# [-] train and test data \n",
    "train_data = datasets.ImageFolder( # [.] train data \n",
    "    train_dir, \n",
    "    transform=data_transform, \n",
    ")\n",
    "\n",
    "test_data = datasets.ImageFolder( # [.] test data \n",
    "    test_dir, \n",
    "    transform=data_transform, \n",
    ")\n",
    "\n",
    "print('num of train images:\\t', len(train_data))\n",
    "print('num of test images:\\t', len(test_data))\n"
   ]
  },
  {
   "cell_type": "code",
   "execution_count": 19,
   "metadata": {},
   "outputs": [
    {
     "name": "stdout",
     "output_type": "stream",
     "text": [
      "shape of example  0 :  torch.Size([3, 32, 32])\n",
      "shape of example  1 :  torch.Size([3, 32, 32])\n",
      "shape of example  2 :  torch.Size([3, 32, 32])\n",
      "shape of example  3 :  torch.Size([3, 32, 32])\n",
      "shape of example  4 :  torch.Size([3, 32, 32])\n",
      "shape of example  5 :  torch.Size([3, 32, 32])\n",
      "shape of example  6 :  torch.Size([3, 32, 32])\n",
      "shape of example  7 :  torch.Size([3, 32, 32])\n",
      "shape of example  8 :  torch.Size([3, 32, 32])\n",
      "shape of example  9 :  torch.Size([3, 32, 32])\n"
     ]
    }
   ],
   "source": [
    "# get the shape of the 1st 10 examples in [C, H, W]\n",
    "for i in range(10):\n",
    "    print('shape of example ', i, ': ', train_data[i][0].shape) "
   ]
  },
  {
   "cell_type": "code",
   "execution_count": 16,
   "metadata": {},
   "outputs": [],
   "source": [
    "# w_list = []\n",
    "\n",
    "# for i in range(len(train_data)):\n",
    "#     w = train_data[i][0].shape[1]\n",
    "#     w_list.append(w)\n",
    "\n",
    "# h_list = []\n",
    "\n",
    "# for i in range(len(train_data)):\n",
    "#     h = train_data[i][0].shape[2]\n",
    "#     h_list.append(h)\n",
    "\n",
    "# # image height range before transform: 225 - 800\n",
    "# print('min image height:', min(h_list))\n",
    "# print('max image height:', max(h_list))\n",
    "\n",
    "# # image width range before applying transform: 60 - 800\n",
    "# print('min image width:', min(w_list))\n",
    "# print('max image width:', max(w_list))\n"
   ]
  },
  {
   "cell_type": "code",
   "execution_count": 22,
   "metadata": {},
   "outputs": [
    {
     "name": "stdout",
     "output_type": "stream",
     "text": [
      "Num training images:  3997\n",
      "Num validation images:  999\n",
      "Num test images:  1250\n"
     ]
    }
   ],
   "source": [
    "# [+] create dataloader \n",
    "\n",
    "# [-] data loader params \n",
    "num_workers = 0     # [.] num of subprocesses for data loading\n",
    "batch_size  = 50    # [.] num of samples per batch to load\n",
    "valid_ratio = 0.2   # [.] % of train data to be used for validation\n",
    "\n",
    "# [-] get train indices for validation\n",
    "num_train     = len(train_data)\n",
    "train_indices = list(range(num_train))\n",
    "np.random.shuffle(train_indices)\n",
    "split = int(np.floor(valid_ratio * num_train))\n",
    "train_idx = train_indices[split:]\n",
    "valid_idx = train_indices[:split]\n",
    "\n",
    "## print out some data stats\n",
    "print('Num training images: ',   len(train_idx))\n",
    "print('Num validation images: ', len(valid_idx))\n",
    "print('Num test images: ',       len(test_data))\n",
    "\n",
    "# [-] samplers to get training and validation batches \n",
    "# note that sampler & shuffle are mutually exclusive\n",
    "train_sampler = SubsetRandomSampler(train_idx)\n",
    "valid_sampler = SubsetRandomSampler(valid_idx)\n",
    "\n",
    "# [-] data loaders \n",
    "train_loader = torch.utils.data.DataLoader( # [.] train loader \n",
    "    train_data, \n",
    "    batch_size  = batch_size,\n",
    "    sampler     = train_sampler,\n",
    "    num_workers = num_workers,\n",
    "    # shuffle     = True,   # shuffle & sampler are mutually exclusive\n",
    ")\n",
    "\n",
    "valid_loader = torch.utils.data.DataLoader( # [.] valid loader \n",
    "    train_data, \n",
    "    batch_size  = batch_size,\n",
    "    sampler     = valid_sampler,\n",
    "    num_workers = num_workers,\n",
    "    # shuffle     = True,   # shuffle & sampler are mutually exclusive\n",
    ")\n",
    "\n",
    "test_loader = torch.utils.data.DataLoader( # [.] test loader \n",
    "    test_data, \n",
    "    batch_size  = batch_size,\n",
    "    num_workers = num_workers,\n",
    "    shuffle     = True,\n",
    ")\n",
    "\n",
    "# [-] assign loders to loader dict \n",
    "loaders_scratch = {\n",
    "    'train': train_loader, \n",
    "    'valid': valid_loader, \n",
    "    'test': test_loader\n",
    "}"
   ]
  },
  {
   "cell_type": "markdown",
   "metadata": {},
   "source": [
    "**Question 1:** Describe your chosen procedure for preprocessing the data. \n",
    "- How does your code resize the images (by cropping, stretching, etc)?  What size did you pick for the input tensor, and why?\n",
    "- Did you decide to augment the dataset?  If so, how (through translations, flips, rotations, etc)?  If not, why not?"
   ]
  },
  {
   "cell_type": "markdown",
   "metadata": {},
   "source": [
    "**Answer**: \n",
    "\n",
    "- used RandomRotation(10), Resize([32, 32]), RandomHorizontalFlip()"
   ]
  },
  {
   "cell_type": "markdown",
   "metadata": {},
   "source": [
    "### (IMPLEMENTATION) Visualize a Batch of Training Data\n",
    "\n",
    "Use the code cell below to retrieve a batch of images from your train data loader, display at least 5 images simultaneously, and label each displayed image with its class name (e.g., \"Golden Gate Bridge\").\n",
    "\n",
    "Visualizing the output of your data loader is a great way to ensure that your data loading and preprocessing are working as expected."
   ]
  },
  {
   "cell_type": "code",
   "execution_count": 23,
   "metadata": {},
   "outputs": [
    {
     "name": "stderr",
     "output_type": "stream",
     "text": [
      "<ipython-input-23-eece1c8f1cda>:26: MatplotlibDeprecationWarning: Passing non-integers as three-element position specification is deprecated since 3.3 and will be removed two minor releases later.\n",
      "  ax = fig.add_subplot(\n"
     ]
    },
    {
     "data": {
      "image/png": "[encoded data removed]",
      "text/plain": [
       "<Figure size 1800x288 with 20 Axes>"
      ]
     },
     "metadata": {},
     "output_type": "display_data"
    }
   ],
   "source": [
    "import matplotlib.pyplot as plt\n",
    "%matplotlib inline\n",
    "\n",
    "## TODO: visualize a batch of the train data loader\n",
    "\n",
    "## the class names can be accessed at the `classes` attribute\n",
    "## of your dataset object (e.g., `train_dataset.classes`)\n",
    "\n",
    "# [+] print example from one batch \n",
    "\n",
    "# [-] get a list of class names \n",
    "classes = train_data.classes \n",
    "\n",
    "# [-] get one batch of train images \n",
    "dataiter = iter(train_loader)       # [.] convert dataloader to an iterator \n",
    "images, labels = dataiter.next()    # [.] get one batch data from iterator\n",
    "images = images.numpy()             # [.] convert image tensor to numpy array \n",
    "\n",
    "# [-] plot images with label\n",
    "num_img = 20    # num of images to show \n",
    "num_rows = 2    # num of rows \n",
    "\n",
    "fig = plt.figure(figsize=(25, 4))\n",
    "\n",
    "for idx in np.arange(num_img):\n",
    "    ax = fig.add_subplot(\n",
    "        num_rows,\n",
    "        num_img/num_rows, \n",
    "        idx+1, \n",
    "        xticks=[], \n",
    "        yticks=[], \n",
    "    )\n",
    "    # [.] unnormalize image data \n",
    "    img = images[idx] / 2 + 0.5     \n",
    "    # [.] convert from PyTorch Tensor image type (0=C, 1=H, 2=W) to Numpy image type (0=H, 1=W, 2=C)\n",
    "    plt.imshow(np.transpose(img, (1, 2, 0))) \n",
    "    # [.] print text label for each image \n",
    "    ax.set_title(classes[labels[idx]])\n"
   ]
  },
  {
   "cell_type": "markdown",
   "metadata": {},
   "source": [
    "### Initialize use_cuda variable"
   ]
  },
  {
   "cell_type": "code",
   "execution_count": 24,
   "metadata": {},
   "outputs": [
    {
     "name": "stdout",
     "output_type": "stream",
     "text": [
      "CUDA is not available.  Training on CPU ...\n"
     ]
    }
   ],
   "source": [
    "# useful variable that tells us whether we should use the GPU\n",
    "use_cuda = torch.cuda.is_available()\n",
    "\n",
    "if not use_cuda:\n",
    "    print('CUDA is not available.  Training on CPU ...')\n",
    "else:\n",
    "    print('CUDA is available!  Training on GPU ...')\n"
   ]
  },
  {
   "cell_type": "markdown",
   "metadata": {},
   "source": [
    "### (IMPLEMENTATION) Specify Loss Function and Optimizer\n",
    "\n",
    "Use the next code cell to specify a [loss function](http://pytorch.org/docs/stable/nn.html#loss-functions) and [optimizer](http://pytorch.org/docs/stable/optim.html).  Save the chosen loss function as `criterion_scratch`, and fill in the function `get_optimizer_scratch` below."
   ]
  },
  {
   "cell_type": "code",
   "execution_count": 25,
   "metadata": {},
   "outputs": [],
   "source": [
    "## TODO: select loss function\n",
    "criterion_scratch = nn.CrossEntropyLoss()\n",
    "\n",
    "def get_optimizer_scratch(model):\n",
    "    ## TODO: select and return an optimizer\n",
    "    \n",
    "    optimizer = optim.Adam(model.parameters(), lr=0.001)\n",
    "\n",
    "    return optimizer \n",
    "    "
   ]
  },
  {
   "cell_type": "markdown",
   "metadata": {},
   "source": [
    "### (IMPLEMENTATION) Model Architecture\n",
    "\n",
    "Create a CNN to classify images of landmarks.  Use the template in the code cell below."
   ]
  },
  {
   "cell_type": "code",
   "execution_count": 29,
   "metadata": {},
   "outputs": [
    {
     "name": "stdout",
     "output_type": "stream",
     "text": [
      "Net(\n",
      "  (conv1): Conv2d(3, 16, kernel_size=(3, 3), stride=(1, 1), padding=(1, 1))\n",
      "  (conv2): Conv2d(16, 32, kernel_size=(3, 3), stride=(1, 1), padding=(1, 1))\n",
      "  (conv3): Conv2d(32, 64, kernel_size=(3, 3), stride=(1, 1), padding=(1, 1))\n",
      "  (maxpool): MaxPool2d(kernel_size=2, stride=2, padding=0, dilation=1, ceil_mode=False)\n",
      "  (fc1): Linear(in_features=1024, out_features=500, bias=True)\n",
      "  (fc2): Linear(in_features=500, out_features=50, bias=True)\n",
      "  (dropout): Dropout(p=0.25, inplace=False)\n",
      ")\n"
     ]
    }
   ],
   "source": [
    "import torch.nn as nn\n",
    "\n",
    "# define the CNN architecture\n",
    "class Net(nn.Module):\n",
    "    ## TODO: choose an architecture, and complete the class\n",
    "    def __init__(self):\n",
    "        super(Net, self).__init__()\n",
    "        \n",
    "        ## Define layers of a CNN\n",
    "        self.conv1 = nn.Conv2d(     # [.] Conv1, in=3x32x32, out=16x16x16\n",
    "            in_channels  = 3,\n",
    "            out_channels = 16,\n",
    "            kernel_size  = 3,\n",
    "            # stride       = 2,\n",
    "            padding      = 1,\n",
    "        )\n",
    "        self.conv2 = nn.Conv2d(16, 32, 3, padding=1)     # [.] conv2, out: 32x8x8\n",
    "        self.conv3 = nn.Conv2d(32, 64, 3, padding=1)     # [.] conv3, out: 64x4x4\n",
    "        self.maxpool = nn.MaxPool2d(2, 2)           # [.] maxpool for downsampling 32 -> 16 -> 8 \n",
    "        self.fc1 = nn.Linear(64*4*4, 500)           # [.] fc1, flattern the output of maxpool, in: 64x4x4, out: 500\n",
    "        self.fc2 = nn.Linear(500, 50)               # [.] fc2, in: 500, out: 50 (there are 50 classes in this dataset)\n",
    "        self.dropout = nn.Dropout(0.25)             # [.] dropout by 25%    \n",
    "                \n",
    "    def forward(self, x):\n",
    "        ## Define forward behavior\n",
    "        out1 = self.maxpool(F.relu(self.conv1(x)))      \n",
    "        out2 = self.maxpool(F.relu(self.conv2(out1)))\n",
    "        out3 = self.maxpool(F.relu(self.conv3(out2)))\n",
    "        out3_flattened = out3.view(-1, 64*4*4)      # flatten image\n",
    "        out4 = self.dropout(out3_flattened)         # add dropout\n",
    "        out5 = F.relu(self.fc1(out4))               # add fully connected layers\n",
    "        out6 = self.dropout(out5)                   # add dropout\n",
    "        out_final = self.fc2(out6)      \n",
    "        \n",
    "        return out_final\n",
    "\n",
    "#-#-# Do NOT modify the code below this line. #-#-#\n",
    "\n",
    "# instantiate the CNN\n",
    "model_scratch = Net()\n",
    "print(model_scratch)\n",
    "\n",
    "# move tensors to GPU if CUDA is available\n",
    "if use_cuda:\n",
    "    model_scratch.cuda()\n"
   ]
  },
  {
   "cell_type": "markdown",
   "metadata": {},
   "source": [
    "__Question 2:__ Outline the steps you took to get to your final CNN architecture and your reasoning at each step.  "
   ]
  },
  {
   "cell_type": "markdown",
   "metadata": {},
   "source": [
    "__Answer:__  \n",
    "\n",
    "- Use a few conv2d layers to increase the number of feature maps incrementally, but reduce their size gradually. \n",
    "\n",
    "- Apply fully connected layer to reduce the number of output to that of the number of classes. \n",
    "\n",
    "- Apply dropout to reduce overfitting. "
   ]
  },
  {
   "cell_type": "markdown",
   "metadata": {},
   "source": [
    "### (IMPLEMENTATION) Implement the Training Algorithm\n",
    "\n",
    "Implement your training algorithm in the code cell below.  [Save the final model parameters](http://pytorch.org/docs/master/notes/serialization.html) at the filepath stored in the variable `save_path`."
   ]
  },
  {
   "cell_type": "code",
   "execution_count": 30,
   "metadata": {},
   "outputs": [],
   "source": [
    "def train(n_epochs, loaders, model, optimizer, criterion, use_cuda, save_path):\n",
    "    \"\"\"returns trained model\"\"\"\n",
    "    # initialize tracker for minimum validation loss\n",
    "    valid_loss_min = np.Inf \n",
    "    \n",
    "    for epoch in range(1, n_epochs+1):\n",
    "        # initialize variables to monitor training and validation loss\n",
    "        train_loss = 0.0\n",
    "        valid_loss = 0.0\n",
    "        \n",
    "        ###################\n",
    "        # train the model #\n",
    "        ###################\n",
    "        # set the module to training mode\n",
    "        model.train()\n",
    "        \n",
    "        # interate the batches \n",
    "        for batch_idx, (data, target) in enumerate(loaders['train']):\n",
    "            # move to GPU\n",
    "            if use_cuda:\n",
    "                data, target = data.cuda(), target.cuda()\n",
    "\n",
    "            ## TODO: find the loss and update the model parameters accordingly\n",
    "            ## record the average training loss, using something like\n",
    "            ## train_loss = train_loss + ((1 / (batch_idx + 1)) * (loss.data.item() - train_loss))\n",
    "            optimizer.zero_grad()               # clear gradients of all optimized params\n",
    "            output = model(data)                # forward pass to get prediction\n",
    "            loss = criterion(output, target)    # calc batch loss\n",
    "            loss.backward()                     # backward pass, calc gradients\n",
    "            optimizer.step()                    # optimize (update params)\n",
    "            train_loss += ((1 / (batch_idx + 1)) * \\\n",
    "                          (loss.data.item() - train_loss)) # update avg training loss\n",
    "\n",
    "        ######################    \n",
    "        # validate the model #\n",
    "        ######################\n",
    "        # set the model to evaluation mode\n",
    "        model.eval()\n",
    "        for batch_idx, (data, target) in enumerate(loaders['valid']):\n",
    "            # move to GPU\n",
    "            if use_cuda:\n",
    "                data, target = data.cuda(), target.cuda()\n",
    "\n",
    "            ## TODO: update average validation loss \n",
    "            output = model(data)                # forward pass, calc prediction\n",
    "            loss = criterion(output, target)    # calc batch loss\n",
    "            valid_loss += ((1 / (batch_idx + 1)) * \\\n",
    "                          (loss.data.item() - valid_loss)) # update avg valis\n",
    "\n",
    "        # print training/validation statistics \n",
    "        print('Epoch: {} \\tTraining Loss: {:.6f} \\tValidation Loss: {:.6f}'\n",
    "              .format(epoch, train_loss, valid_loss)\n",
    "             )\n",
    "\n",
    "        ## TODO: if the validation loss has decreased, save the model at the filepath stored in save_path\n",
    "        if valid_loss <= valid_loss_min: \n",
    "            print(\n",
    "                'Validation loss decreased ({:.6f} -> {:.6f}). Saving model ....'\n",
    "                .format(valid_loss, valid_loss_min)\n",
    "            )\n",
    "            torch.save(model.state_dict(), save_path)\n",
    "            valid_loss_min = valid_loss\n",
    "            \n",
    "    return model\n"
   ]
  },
  {
   "cell_type": "markdown",
   "metadata": {},
   "source": [
    "### (IMPLEMENTATION) Experiment with the Weight Initialization\n",
    "\n",
    "Use the code cell below to define a custom weight initialization, and then train with your weight initialization for a few epochs. Make sure that neither the training loss nor validation loss is `nan`.\n",
    "\n",
    "Later on, you will be able to see how this compares to training with PyTorch's default weight initialization."
   ]
  },
  {
   "cell_type": "code",
   "execution_count": 31,
   "metadata": {},
   "outputs": [
    {
     "name": "stdout",
     "output_type": "stream",
     "text": [
      "Epoch: 1 \tTraining Loss: 14.812818 \tValidation Loss: 3.918539\n",
      "Validation loss decreased (3.918539 -> inf). Saving model ....\n",
      "Epoch: 2 \tTraining Loss: 3.915202 \tValidation Loss: 3.918442\n",
      "Validation loss decreased (3.918442 -> 3.918539). Saving model ....\n",
      "Epoch: 3 \tTraining Loss: 3.913840 \tValidation Loss: 3.918352\n",
      "Validation loss decreased (3.918352 -> 3.918442). Saving model ....\n",
      "Epoch: 4 \tTraining Loss: 3.913182 \tValidation Loss: 3.917927\n",
      "Validation loss decreased (3.917927 -> 3.918352). Saving model ....\n",
      "Epoch: 5 \tTraining Loss: 3.913160 \tValidation Loss: 3.918356\n",
      "Epoch: 6 \tTraining Loss: 3.913093 \tValidation Loss: 3.917987\n",
      "Epoch: 7 \tTraining Loss: 3.912355 \tValidation Loss: 3.918628\n",
      "Epoch: 8 \tTraining Loss: 3.912218 \tValidation Loss: 3.918658\n",
      "Epoch: 9 \tTraining Loss: 3.912634 \tValidation Loss: 3.918100\n",
      "Epoch: 10 \tTraining Loss: 3.912739 \tValidation Loss: 3.917446\n",
      "Validation loss decreased (3.917446 -> 3.917927). Saving model ....\n",
      "Epoch: 11 \tTraining Loss: 3.912273 \tValidation Loss: 3.917523\n",
      "Epoch: 12 \tTraining Loss: 3.912345 \tValidation Loss: 3.917871\n",
      "Epoch: 13 \tTraining Loss: 3.912175 \tValidation Loss: 3.918336\n",
      "Epoch: 14 \tTraining Loss: 3.912272 \tValidation Loss: 3.918213\n",
      "Epoch: 15 \tTraining Loss: 3.911749 \tValidation Loss: 3.919209\n",
      "Epoch: 16 \tTraining Loss: 3.912001 \tValidation Loss: 3.920135\n",
      "Epoch: 17 \tTraining Loss: 3.912234 \tValidation Loss: 3.919416\n",
      "Epoch: 18 \tTraining Loss: 3.912466 \tValidation Loss: 3.918837\n",
      "Epoch: 19 \tTraining Loss: 3.912221 \tValidation Loss: 3.918694\n",
      "Epoch: 20 \tTraining Loss: 3.912429 \tValidation Loss: 3.920433\n"
     ]
    }
   ],
   "source": [
    "def custom_weight_init(m):\n",
    "    ## TODO: implement a weight initialization strategy\n",
    "    classname = m.__class__.__name__\n",
    "    if classname.find('Linear') != -1:\n",
    "        # apply a uniform distribution to weights, set bias = 0\n",
    "        m.weight.data.uniform_(0.0, 1.0)\n",
    "        m.bias.data.fill_(0)\n",
    "\n",
    "#-#-# Do NOT modify the code below this line. #-#-#\n",
    "    \n",
    "model_scratch.apply(custom_weight_init)\n",
    "model_scratch = train(\n",
    "    20, \n",
    "    loaders_scratch, \n",
    "    model_scratch, \n",
    "    get_optimizer_scratch(model_scratch),\n",
    "    criterion_scratch, \n",
    "    use_cuda, \n",
    "    'ignore.pt'\n",
    ")\n"
   ]
  },
  {
   "cell_type": "markdown",
   "metadata": {},
   "source": [
    "### (IMPLEMENTATION) Train and Validate the Model\n",
    "\n",
    "Run the next code cell to train your model."
   ]
  },
  {
   "cell_type": "code",
   "execution_count": 35,
   "metadata": {},
   "outputs": [
    {
     "name": "stdout",
     "output_type": "stream",
     "text": [
      "Epoch: 1 \tTraining Loss: 3.822468 \tValidation Loss: 3.606632\n",
      "Validation loss decreased (3.606632 -> inf). Saving model ....\n",
      "Epoch: 2 \tTraining Loss: 3.539327 \tValidation Loss: 3.484904\n",
      "Validation loss decreased (3.484904 -> 3.606632). Saving model ....\n",
      "Epoch: 3 \tTraining Loss: 3.358849 \tValidation Loss: 3.365314\n",
      "Validation loss decreased (3.365314 -> 3.484904). Saving model ....\n",
      "Epoch: 4 \tTraining Loss: 3.199758 \tValidation Loss: 3.260833\n",
      "Validation loss decreased (3.260833 -> 3.365314). Saving model ....\n",
      "Epoch: 5 \tTraining Loss: 3.038658 \tValidation Loss: 3.169948\n",
      "Validation loss decreased (3.169948 -> 3.260833). Saving model ....\n",
      "Epoch: 6 \tTraining Loss: 2.878053 \tValidation Loss: 3.114024\n",
      "Validation loss decreased (3.114024 -> 3.169948). Saving model ....\n",
      "Epoch: 7 \tTraining Loss: 2.741708 \tValidation Loss: 3.059020\n",
      "Validation loss decreased (3.059020 -> 3.114024). Saving model ....\n",
      "Epoch: 8 \tTraining Loss: 2.564082 \tValidation Loss: 3.017599\n",
      "Validation loss decreased (3.017599 -> 3.059020). Saving model ....\n",
      "Epoch: 9 \tTraining Loss: 2.408740 \tValidation Loss: 3.095425\n",
      "Epoch: 10 \tTraining Loss: 2.251168 \tValidation Loss: 2.983130\n",
      "Validation loss decreased (2.983130 -> 3.017599). Saving model ....\n"
     ]
    }
   ],
   "source": [
    "## TODO: you may change the number of epochs if you'd like,\n",
    "## but changing it is not required\n",
    "num_epochs = 10\n",
    "\n",
    "#-#-# Do NOT modify the code below this line. #-#-#\n",
    "\n",
    "# function to re-initialize a model with pytorch's default weight initialization\n",
    "def default_weight_init(m):\n",
    "    reset_parameters = getattr(m, 'reset_parameters', None)\n",
    "    if callable(reset_parameters):\n",
    "        m.reset_parameters()\n",
    "\n",
    "# reset the model parameters\n",
    "model_scratch.apply(default_weight_init)\n",
    "\n",
    "# train the model\n",
    "model_scratch = train(num_epochs, loaders_scratch, model_scratch, get_optimizer_scratch(model_scratch), \n",
    "                      criterion_scratch, use_cuda, 'model_scratch.pt')"
   ]
  },
  {
   "cell_type": "markdown",
   "metadata": {},
   "source": [
    "### (IMPLEMENTATION) Test the Model\n",
    "\n",
    "Run the code cell below to try out your model on the test dataset of landmark images. Run the code cell below to calculate and print the test loss and accuracy.  Ensure that your test accuracy is greater than 20%."
   ]
  },
  {
   "cell_type": "code",
   "execution_count": 36,
   "metadata": {},
   "outputs": [
    {
     "name": "stdout",
     "output_type": "stream",
     "text": [
      "Test Loss: 2.889593\n",
      "\n",
      "\n",
      "Test Accuracy: 28% (362/1250)\n"
     ]
    }
   ],
   "source": [
    "def test(loaders, model, criterion, use_cuda):\n",
    "\n",
    "    # monitor test loss and accuracy\n",
    "    test_loss = 0.\n",
    "    correct = 0.\n",
    "    total = 0.\n",
    "\n",
    "    # set the module to evaluation mode\n",
    "    model.eval()\n",
    "\n",
    "    for batch_idx, (data, target) in enumerate(loaders['test']):\n",
    "        # move to GPU\n",
    "        if use_cuda:\n",
    "            data, target = data.cuda(), target.cuda()\n",
    "        # forward pass: compute predicted outputs by passing inputs to the model\n",
    "        output = model(data)\n",
    "        # calculate the loss\n",
    "        loss = criterion(output, target)\n",
    "        # update average test loss \n",
    "        test_loss = test_loss + ((1 / (batch_idx + 1)) * (loss.data.item() - test_loss))\n",
    "        # convert output probabilities to predicted class\n",
    "        pred = output.data.max(1, keepdim=True)[1]\n",
    "        # compare predictions to true label\n",
    "        correct += np.sum(np.squeeze(pred.eq(target.data.view_as(pred))).cpu().numpy())\n",
    "        total += data.size(0)\n",
    "            \n",
    "    print('Test Loss: {:.6f}\\n'.format(test_loss))\n",
    "\n",
    "    print('\\nTest Accuracy: %2d%% (%2d/%2d)' % (\n",
    "        100. * correct / total, correct, total))\n",
    "\n",
    "# load the model that got the best validation accuracy\n",
    "model_scratch.load_state_dict(torch.load('model_scratch.pt'))\n",
    "test(loaders_scratch, model_scratch, criterion_scratch, use_cuda)"
   ]
  },
  {
   "cell_type": "markdown",
   "metadata": {},
   "source": [
    "---\n",
    "<a id='step2'></a>\n",
    "## Step 2: Create a CNN to Classify Landmarks (using Transfer Learning)\n",
    "\n",
    "You will now use transfer learning to create a CNN that can identify landmarks from images.  Your CNN must attain at least 60% accuracy on the test set.\n",
    "\n",
    "### (IMPLEMENTATION) Specify Data Loaders for the Landmark Dataset\n",
    "\n",
    "Use the code cell below to create three separate [data loaders](http://pytorch.org/docs/stable/data.html#torch.utils.data.DataLoader): one for training data, one for validation data, and one for test data. Randomly split the images located at `landmark_images/train` to create the train and validation data loaders, and use the images located at `landmark_images/test` to create the test data loader.\n",
    "\n",
    "All three of your data loaders should be accessible via a dictionary named `loaders_transfer`. Your train data loader should be at `loaders_transfer['train']`, your validation data loader should be at `loaders_transfer['valid']`, and your test data loader should be at `loaders_transfer['test']`.\n",
    "\n",
    "If you like, **you are welcome to use the same data loaders from the previous step**, when you created a CNN from scratch."
   ]
  },
  {
   "cell_type": "code",
   "execution_count": null,
   "metadata": {},
   "outputs": [],
   "source": [
    "### TODO: Write data loaders for training, validation, and test sets\n",
    "## Specify appropriate transforms, and batch_sizes\n",
    "\n",
    "loaders_transfer = {'train': None, 'valid': None, 'test': None}\n",
    "\n",
    "\n",
    "\n"
   ]
  },
  {
   "cell_type": "markdown",
   "metadata": {},
   "source": [
    "### (IMPLEMENTATION) Specify Loss Function and Optimizer\n",
    "\n",
    "Use the next code cell to specify a [loss function](http://pytorch.org/docs/stable/nn.html#loss-functions) and [optimizer](http://pytorch.org/docs/stable/optim.html).  Save the chosen loss function as `criterion_transfer`, and fill in the function `get_optimizer_transfer` below."
   ]
  },
  {
   "cell_type": "code",
   "execution_count": null,
   "metadata": {},
   "outputs": [],
   "source": [
    "## TODO: select loss function\n",
    "criterion_transfer = None\n",
    "\n",
    "\n",
    "def get_optimizer_transfer(model):\n",
    "    ## TODO: select and return optimizer\n",
    "\n",
    "    \n",
    "    "
   ]
  },
  {
   "cell_type": "markdown",
   "metadata": {},
   "source": [
    "### (IMPLEMENTATION) Model Architecture\n",
    "\n",
    "Use transfer learning to create a CNN to classify images of landmarks.  Use the code cell below, and save your initialized model as the variable `model_transfer`."
   ]
  },
  {
   "cell_type": "code",
   "execution_count": null,
   "metadata": {},
   "outputs": [],
   "source": [
    "## TODO: Specify model architecture\n",
    "\n",
    "model_transfer = None\n",
    "\n",
    "\n",
    "\n",
    "\n",
    "#-#-# Do NOT modify the code below this line. #-#-#\n",
    "\n",
    "if use_cuda:\n",
    "    model_transfer = model_transfer.cuda()"
   ]
  },
  {
   "cell_type": "markdown",
   "metadata": {},
   "source": [
    "__Question 3:__ Outline the steps you took to get to your final CNN architecture and your reasoning at each step.  Describe why you think the architecture is suitable for the current problem."
   ]
  },
  {
   "cell_type": "markdown",
   "metadata": {},
   "source": [
    "__Answer:__  "
   ]
  },
  {
   "cell_type": "markdown",
   "metadata": {},
   "source": [
    "### (IMPLEMENTATION) Train and Validate the Model\n",
    "\n",
    "Train and validate your model in the code cell below.  [Save the final model parameters](http://pytorch.org/docs/master/notes/serialization.html) at filepath `'model_transfer.pt'`."
   ]
  },
  {
   "cell_type": "code",
   "execution_count": null,
   "metadata": {},
   "outputs": [],
   "source": [
    "# TODO: train the model and save the best model parameters at filepath 'model_transfer.pt'\n",
    "\n",
    "\n",
    "\n",
    "#-#-# Do NOT modify the code below this line. #-#-#\n",
    "\n",
    "# load the model that got the best validation accuracy\n",
    "model_transfer.load_state_dict(torch.load('model_transfer.pt'))"
   ]
  },
  {
   "cell_type": "markdown",
   "metadata": {},
   "source": [
    "### (IMPLEMENTATION) Test the Model\n",
    "\n",
    "Try out your model on the test dataset of landmark images. Use the code cell below to calculate and print the test loss and accuracy.  Ensure that your test accuracy is greater than 60%."
   ]
  },
  {
   "cell_type": "code",
   "execution_count": null,
   "metadata": {},
   "outputs": [],
   "source": [
    "test(loaders_transfer, model_transfer, criterion_transfer, use_cuda)"
   ]
  },
  {
   "cell_type": "markdown",
   "metadata": {},
   "source": [
    "---\n",
    "<a id='step3'></a>\n",
    "## Step 3: Write Your Landmark Prediction Algorithm\n",
    "\n",
    "Great job creating your CNN models! Now that you have put in all the hard work of creating accurate classifiers, let's define some functions to make it easy for others to use your classifiers.\n",
    "\n",
    "### (IMPLEMENTATION) Write Your Algorithm, Part 1\n",
    "\n",
    "Implement the function `predict_landmarks`, which accepts a file path to an image and an integer k, and then predicts the **top k most likely landmarks**. You are **required** to use your transfer learned CNN from Step 2 to predict the landmarks.\n",
    "\n",
    "An example of the expected behavior of `predict_landmarks`:\n",
    "```\n",
    ">>> predicted_landmarks = predict_landmarks('example_image.jpg', 3)\n",
    ">>> print(predicted_landmarks)\n",
    "['Golden Gate Bridge', 'Brooklyn Bridge', 'Sydney Harbour Bridge']\n",
    "```"
   ]
  },
  {
   "cell_type": "code",
   "execution_count": null,
   "metadata": {},
   "outputs": [],
   "source": [
    "import cv2\n",
    "from PIL import Image\n",
    "\n",
    "## the class names can be accessed at the `classes` attribute\n",
    "## of your dataset object (e.g., `train_dataset.classes`)\n",
    "\n",
    "def predict_landmarks(img_path, k):\n",
    "    ## TODO: return the names of the top k landmarks predicted by the transfer learned CNN\n",
    "    \n",
    "\n",
    "\n",
    "# test on a sample image\n",
    "predict_landmarks('images/test/09.Golden_Gate_Bridge/190f3bae17c32c37.jpg', 5)"
   ]
  },
  {
   "cell_type": "markdown",
   "metadata": {},
   "source": [
    "### (IMPLEMENTATION) Write Your Algorithm, Part 2\n",
    "\n",
    "In the code cell below, implement the function `suggest_locations`, which accepts a file path to an image as input, and then displays the image and the **top 3 most likely landmarks** as predicted by `predict_landmarks`.\n",
    "\n",
    "Some sample output for `suggest_locations` is provided below, but feel free to design your own user experience!\n",
    "![](images/sample_landmark_output.png)"
   ]
  },
  {
   "cell_type": "code",
   "execution_count": null,
   "metadata": {},
   "outputs": [],
   "source": [
    "def suggest_locations(img_path):\n",
    "    # get landmark predictions\n",
    "    predicted_landmarks = predict_landmarks(img_path, 3)\n",
    "    \n",
    "    ## TODO: display image and display landmark predictions\n",
    "\n",
    "    \n",
    "    \n",
    "\n",
    "# test on a sample image\n",
    "suggest_locations('images/test/09.Golden_Gate_Bridge/190f3bae17c32c37.jpg')"
   ]
  },
  {
   "cell_type": "markdown",
   "metadata": {},
   "source": [
    "### (IMPLEMENTATION) Test Your Algorithm\n",
    "\n",
    "Test your algorithm by running the `suggest_locations` function on at least four images on your computer. Feel free to use any images you like.\n",
    "\n",
    "__Question 4:__ Is the output better than you expected :) ?  Or worse :( ?  Provide at least three possible points of improvement for your algorithm."
   ]
  },
  {
   "cell_type": "markdown",
   "metadata": {},
   "source": [
    "__Answer:__ (Three possible points for improvement)"
   ]
  },
  {
   "cell_type": "code",
   "execution_count": null,
   "metadata": {},
   "outputs": [],
   "source": [
    "## TODO: Execute the `suggest_locations` function on\n",
    "## at least 4 images on your computer.\n",
    "## Feel free to use as many code cells as needed.\n",
    "\n"
   ]
  }
 ],
 "metadata": {
  "interpreter": {
   "hash": "8c213064a5e6d0c923d7a177f02e2c9bf407a06ccdb685cc176520478ec1133f"
  },
  "kernelspec": {
   "display_name": "Python 3.9.5 64-bit ('udacity-deep-learning': conda)",
   "name": "python3"
  },
  "language_info": {
   "codemirror_mode": {
    "name": "ipython",
    "version": 3
   },
   "file_extension": ".py",
   "mimetype": "text/x-python",
   "name": "python",
   "nbconvert_exporter": "python",
   "pygments_lexer": "ipython3",
   "version": "3.9.5"
  }
 },
 "nbformat": 4,
 "nbformat_minor": 2
}
